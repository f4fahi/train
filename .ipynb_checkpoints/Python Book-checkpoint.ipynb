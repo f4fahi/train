{
 "cells": [
  {
   "cell_type": "code",
   "execution_count": 1,
   "metadata": {},
   "outputs": [],
   "source": [
    "original_number= 33\n",
    "num_to_be_added = 7\n",
    "new_number = original_number+num_to_be_added\n"
   ]
  },
  {
   "cell_type": "code",
   "execution_count": 2,
   "metadata": {},
   "outputs": [
    {
     "name": "stdout",
     "output_type": "stream",
     "text": [
      "40\n"
     ]
    }
   ],
   "source": [
    "print(new_number)"
   ]
  },
  {
   "cell_type": "code",
   "execution_count": 3,
   "metadata": {},
   "outputs": [
    {
     "name": "stdout",
     "output_type": "stream",
     "text": [
      "100\n"
     ]
    }
   ],
   "source": [
    "or_number = 90\n",
    "or_number = 90+10\n",
    "\n",
    "print(or_number)"
   ]
  },
  {
   "cell_type": "code",
   "execution_count": 5,
   "metadata": {},
   "outputs": [
    {
     "name": "stdout",
     "output_type": "stream",
     "text": [
      "2\n"
     ]
    }
   ],
   "source": [
    "prime_1st = 2\n",
    "print(prime_1st)"
   ]
  },
  {
   "cell_type": "markdown",
   "metadata": {},
   "source": [
    "Assigning variable to some number"
   ]
  },
  {
   "cell_type": "code",
   "execution_count": 6,
   "metadata": {},
   "outputs": [
    {
     "name": "stdout",
     "output_type": "stream",
     "text": [
      "8.285714285714286\n"
     ]
    }
   ],
   "source": [
    "grand_total = 58\n",
    "total = 7\n",
    "ans = grand_total / total\n",
    "\n",
    "print(ans)"
   ]
  },
  {
   "cell_type": "markdown",
   "metadata": {},
   "source": [
    "# Point to remember before set a variable#\n",
    "\n",
    "    1)Don't enclosed in quotation mark \"\".\n",
    "    2)Don't add any space to set any variable\n",
    "    3)It won't be a number or start with a number like 1st_number = (6)\n",
    "    4)Its can't be set with Python Resever word i.e keywords like , and , print , else , list , from, del etc\n"
   ]
  },
  {
   "cell_type": "code",
   "execution_count": 14,
   "metadata": {},
   "outputs": [
    {
     "data": {
      "text/plain": [
       "5"
      ]
     },
     "execution_count": 14,
     "metadata": {},
     "output_type": "execute_result"
    }
   ],
   "source": [
    "5%6"
   ]
  },
  {
   "cell_type": "code",
   "execution_count": 6,
   "metadata": {},
   "outputs": [
    {
     "name": "stdout",
     "output_type": "stream",
     "text": [
      "1\n"
     ]
    }
   ],
   "source": [
    "ansd = 5%2\n",
    "\n",
    "print(ansd)"
   ]
  },
  {
   "cell_type": "markdown",
   "metadata": {},
   "source": [
    "# Un Familiar operators # \n",
    "\n",
    "    %\n",
    "    +="
   ]
  },
  {
   "cell_type": "code",
   "execution_count": 9,
   "metadata": {},
   "outputs": [],
   "source": [
    "age = 51"
   ]
  },
  {
   "cell_type": "code",
   "execution_count": 10,
   "metadata": {},
   "outputs": [],
   "source": [
    "age = age +1"
   ]
  },
  {
   "cell_type": "code",
   "execution_count": 14,
   "metadata": {},
   "outputs": [
    {
     "name": "stdout",
     "output_type": "stream",
     "text": [
      "56\n"
     ]
    }
   ],
   "source": [
    "age += 1\n",
    "\n",
    "print(age)"
   ]
  },
  {
   "cell_type": "code",
   "execution_count": null,
   "metadata": {},
   "outputs": [],
   "source": []
  },
  {
   "cell_type": "markdown",
   "metadata": {},
   "source": [
    "this is \\\\ double backslash"
   ]
  },
  {
   "cell_type": "code",
   "execution_count": 16,
   "metadata": {},
   "outputs": [
    {
     "name": "stdout",
     "output_type": "stream",
     "text": [
      "this is \\\\ double backslash\n"
     ]
    }
   ],
   "source": [
    "print (\"this is \\\\\\\\ double backslash\")"
   ]
  },
  {
   "cell_type": "markdown",
   "metadata": {},
   "source": [
    " these are /\\/\\/\\  mountains"
   ]
  },
  {
   "cell_type": "code",
   "execution_count": 17,
   "metadata": {},
   "outputs": [
    {
     "name": "stdout",
     "output_type": "stream",
     "text": [
      "these are /\\/\\/\\ mountains \n"
     ]
    }
   ],
   "source": [
    "print (\"these are /\\\\/\\\\/\\\\ mountains \")"
   ]
  },
  {
   "cell_type": "markdown",
   "metadata": {},
   "source": [
    "# he is      awesome "
   ]
  },
  {
   "cell_type": "code",
   "execution_count": 18,
   "metadata": {},
   "outputs": [
    {
     "name": "stdout",
     "output_type": "stream",
     "text": [
      "he is\t awesome\n"
     ]
    }
   ],
   "source": [
    "print (\"he is\\t awesome\")"
   ]
  },
  {
   "cell_type": "markdown",
   "metadata": {},
   "source": [
    "\\\" \\n \\t \\'"
   ]
  },
  {
   "cell_type": "code",
   "execution_count": 42,
   "metadata": {},
   "outputs": [
    {
     "name": "stdout",
     "output_type": "stream",
     "text": [
      "\\\" \\n \\t \\'\n"
     ]
    }
   ],
   "source": [
    "print (\"\\\\\\\" \\\\n \\\\t \\\\'\")"
   ]
  },
  {
   "cell_type": "code",
   "execution_count": 43,
   "metadata": {},
   "outputs": [
    {
     "name": "stdout",
     "output_type": "stream",
     "text": [
      "\\\" \\n \\t \\'\n"
     ]
    }
   ],
   "source": [
    "print (\"\\\\\\\" \\\\n \\\\t \\\\'\")"
   ]
  },
  {
   "cell_type": "code",
   "execution_count": 46,
   "metadata": {},
   "outputs": [
    {
     "name": "stdout",
     "output_type": "stream",
     "text": [
      "\\\"\n"
     ]
    }
   ],
   "source": [
    "print (\"\\\\\\\"\")"
   ]
  },
  {
   "cell_type": "code",
   "execution_count": 2,
   "metadata": {},
   "outputs": [],
   "source": [
    "fahim = \"fahi\""
   ]
  },
  {
   "cell_type": "code",
   "execution_count": 3,
   "metadata": {},
   "outputs": [
    {
     "name": "stdout",
     "output_type": "stream",
     "text": [
      "fahi\n"
     ]
    }
   ],
   "source": [
    "print(fahim)"
   ]
  },
  {
   "cell_type": "code",
   "execution_count": 6,
   "metadata": {},
   "outputs": [],
   "source": [
    "fahim = \"hen\""
   ]
  },
  {
   "cell_type": "code",
   "execution_count": 7,
   "metadata": {},
   "outputs": [
    {
     "name": "stdout",
     "output_type": "stream",
     "text": [
      "hen\n"
     ]
    }
   ],
   "source": [
    "print(fahim)"
   ]
  },
  {
   "cell_type": "code",
   "execution_count": null,
   "metadata": {},
   "outputs": [],
   "source": []
  },
  {
   "cell_type": "markdown",
   "metadata": {},
   "source": [
    "# Math expressions: Unfamiliar operators"
   ]
  },
  {
   "cell_type": "markdown",
   "metadata": {},
   "source": [
    "    whats_left_over = 10 % 3\n",
    "    whats_left_over = 9 % 3"
   ]
  },
  {
   "cell_type": "code",
   "execution_count": 9,
   "metadata": {},
   "outputs": [],
   "source": [
    "left_over = 9 % 3"
   ]
  },
  {
   "cell_type": "code",
   "execution_count": 10,
   "metadata": {},
   "outputs": [
    {
     "name": "stdout",
     "output_type": "stream",
     "text": [
      "0\n"
     ]
    }
   ],
   "source": [
    "print(left_over)"
   ]
  },
  {
   "cell_type": "code",
   "execution_count": 12,
   "metadata": {},
   "outputs": [],
   "source": [
    "age = 15\n"
   ]
  },
  {
   "cell_type": "code",
   "execution_count": 13,
   "metadata": {},
   "outputs": [],
   "source": [
    "age = age + 1"
   ]
  },
  {
   "cell_type": "code",
   "execution_count": 14,
   "metadata": {},
   "outputs": [
    {
     "name": "stdout",
     "output_type": "stream",
     "text": [
      "16\n"
     ]
    }
   ],
   "source": [
    "print(age)"
   ]
  },
  {
   "cell_type": "code",
   "execution_count": 15,
   "metadata": {},
   "outputs": [],
   "source": [
    "age = 54\n"
   ]
  },
  {
   "cell_type": "code",
   "execution_count": 16,
   "metadata": {},
   "outputs": [],
   "source": [
    "age += 1"
   ]
  },
  {
   "cell_type": "code",
   "execution_count": 18,
   "metadata": {},
   "outputs": [
    {
     "name": "stdout",
     "output_type": "stream",
     "text": [
      "55\n"
     ]
    }
   ],
   "source": [
    "print(age)"
   ]
  },
  {
   "cell_type": "code",
   "execution_count": 19,
   "metadata": {},
   "outputs": [
    {
     "name": "stdout",
     "output_type": "stream",
     "text": [
      "62\n"
     ]
    }
   ],
   "source": [
    "age = 12\n",
    "\n",
    "age += 50\n",
    "\n",
    "print(age)"
   ]
  },
  {
   "cell_type": "code",
   "execution_count": 1,
   "metadata": {},
   "outputs": [
    {
     "data": {
      "text/plain": [
       "0"
      ]
     },
     "execution_count": 1,
     "metadata": {},
     "output_type": "execute_result"
    }
   ],
   "source": [
    "5//6"
   ]
  },
  {
   "cell_type": "code",
   "execution_count": 2,
   "metadata": {},
   "outputs": [
    {
     "data": {
      "text/plain": [
       "0.8333333333333334"
      ]
     },
     "execution_count": 2,
     "metadata": {},
     "output_type": "execute_result"
    }
   ],
   "source": [
    "5/6\n"
   ]
  },
  {
   "cell_type": "code",
   "execution_count": 3,
   "metadata": {},
   "outputs": [
    {
     "data": {
      "text/plain": [
       "64"
      ]
     },
     "execution_count": 3,
     "metadata": {},
     "output_type": "execute_result"
    }
   ],
   "source": [
    "2**6"
   ]
  },
  {
   "cell_type": "code",
   "execution_count": 5,
   "metadata": {},
   "outputs": [],
   "source": [
    "fahi = \"fahim\"\n"
   ]
  },
  {
   "cell_type": "code",
   "execution_count": 6,
   "metadata": {},
   "outputs": [
    {
     "name": "stdout",
     "output_type": "stream",
     "text": [
      "fahim\n"
     ]
    }
   ],
   "source": [
    "print(fahi)"
   ]
  },
  {
   "cell_type": "code",
   "execution_count": 8,
   "metadata": {},
   "outputs": [],
   "source": [
    "xys = fahi"
   ]
  },
  {
   "cell_type": "code",
   "execution_count": 9,
   "metadata": {},
   "outputs": [
    {
     "name": "stdout",
     "output_type": "stream",
     "text": [
      "fahim\n"
     ]
    }
   ],
   "source": [
    "print(fahi)"
   ]
  },
  {
   "cell_type": "code",
   "execution_count": 10,
   "metadata": {},
   "outputs": [
    {
     "name": "stdout",
     "output_type": "stream",
     "text": [
      "fahim\n"
     ]
    }
   ],
   "source": [
    "print(xys)"
   ]
  },
  {
   "cell_type": "markdown",
   "metadata": {},
   "source": [
    "# Math expressions: Eliminating ambiguity"
   ]
  },
  {
   "cell_type": "code",
   "execution_count": 12,
   "metadata": {},
   "outputs": [
    {
     "name": "stdout",
     "output_type": "stream",
     "text": [
      "13\n"
     ]
    }
   ],
   "source": [
    "total_cost = 1 + 3 * 4\n",
    "\n",
    "print(total_cost)"
   ]
  },
  {
   "cell_type": "code",
   "execution_count": 13,
   "metadata": {},
   "outputs": [
    {
     "name": "stdout",
     "output_type": "stream",
     "text": [
      "34\n"
     ]
    }
   ],
   "source": [
    "x = ((2 * 4) * 4) + 2\n",
    "\n",
    "print(x)"
   ]
  },
  {
   "cell_type": "markdown",
   "metadata": {},
   "source": [
    "# Chapter 8  #Concatenating text strings"
   ]
  },
  {
   "cell_type": "code",
   "execution_count": 16,
   "metadata": {},
   "outputs": [
    {
     "name": "stdout",
     "output_type": "stream",
     "text": [
      "helloworld\n"
     ]
    }
   ],
   "source": [
    "greeting = \"hello\"\n",
    "address = \"world\"\n",
    "\n",
    "whole_greeting = greeting + address\n",
    "\n",
    "print(whole_greeting)"
   ]
  },
  {
   "cell_type": "code",
   "execution_count": 19,
   "metadata": {},
   "outputs": [
    {
     "name": "stdout",
     "output_type": "stream",
     "text": [
      "hello,world!\n"
     ]
    }
   ],
   "source": [
    "greerting = \"hello\"\n",
    "seperators = \",\"\n",
    "address = \"world\"\n",
    "punc = \"!\"\n",
    "whole_greeting = greeting + seperators + address + punc\n",
    "\n",
    "print(whole_greeting)"
   ]
  },
  {
   "cell_type": "code",
   "execution_count": 23,
   "metadata": {},
   "outputs": [
    {
     "name": "stdout",
     "output_type": "stream",
     "text": [
      "Hello, World!\n"
     ]
    }
   ],
   "source": [
    "whole_greeting = \"Hello, \" + \"World!\"\n",
    "print(whole_greeting)"
   ]
  },
  {
   "cell_type": "code",
   "execution_count": 24,
   "metadata": {},
   "outputs": [
    {
     "ename": "TypeError",
     "evalue": "can only concatenate str (not \"int\") to str",
     "output_type": "error",
     "traceback": [
      "\u001b[0;31m---------------------------------------------------------------------------\u001b[0m",
      "\u001b[0;31mTypeError\u001b[0m                                 Traceback (most recent call last)",
      "\u001b[0;32m<ipython-input-24-76ef5bb9abc7>\u001b[0m in \u001b[0;36m<module>\u001b[0;34m\u001b[0m\n\u001b[0;32m----> 1\u001b[0;31m \u001b[0mprint\u001b[0m\u001b[0;34m(\u001b[0m\u001b[0;34m\"The sum of 2 plus 2 is \"\u001b[0m \u001b[0;34m+\u001b[0m \u001b[0;36m4\u001b[0m\u001b[0;34m)\u001b[0m\u001b[0;34m\u001b[0m\u001b[0;34m\u001b[0m\u001b[0m\n\u001b[0m",
      "\u001b[0;31mTypeError\u001b[0m: can only concatenate str (not \"int\") to str"
     ]
    }
   ],
   "source": [
    "print(\"The sum of 2 plus 2 is \" + 4)"
   ]
  },
  {
   "cell_type": "code",
   "execution_count": 26,
   "metadata": {},
   "outputs": [
    {
     "name": "stdout",
     "output_type": "stream",
     "text": [
      "The sum of 2 plus 2 is 4\n"
     ]
    }
   ],
   "source": [
    "print(\"The sum of 2 plus 2 is \" + \"4\")"
   ]
  },
  {
   "cell_type": "code",
   "execution_count": 28,
   "metadata": {},
   "outputs": [
    {
     "name": "stdout",
     "output_type": "stream",
     "text": [
      "Mr.Brown\n"
     ]
    }
   ],
   "source": [
    "var = \"Mr.\" + \"Brown\"\n",
    "print(var)"
   ]
  },
  {
   "cell_type": "markdown",
   "metadata": {},
   "source": [
    "### Chapter 9 -  if statements"
   ]
  },
  {
   "cell_type": "code",
   "execution_count": 29,
   "metadata": {},
   "outputs": [
    {
     "name": "stdout",
     "output_type": "stream",
     "text": [
      "yep it'a cat\n"
     ]
    }
   ],
   "source": [
    "species = \"cat\"\n",
    "\n",
    "if species == \"cat\":\n",
    "    print(\"yep it'a cat\")"
   ]
  },
  {
   "cell_type": "code",
   "execution_count": 34,
   "metadata": {},
   "outputs": [],
   "source": [
    "name = \"Fahim\"\n",
    "if name == \"Fahims\":\n",
    "    print(\"Yes! its my name\")"
   ]
  },
  {
   "cell_type": "code",
   "execution_count": 37,
   "metadata": {},
   "outputs": [
    {
     "name": "stdout",
     "output_type": "stream",
     "text": [
      "Yes it is my drink dear\n"
     ]
    }
   ],
   "source": [
    "drink = \"pepsi\"\n",
    "if drink == \"pepsi\":\n",
    "    print(\"Yes it is my drink dear\")"
   ]
  },
  {
   "cell_type": "code",
   "execution_count": 38,
   "metadata": {},
   "outputs": [],
   "source": [
    "drink = \"pepsi\"\n",
    "if drink == \"Coke\":\n",
    "    print(\"Yes it is my drink dear\")"
   ]
  },
  {
   "cell_type": "code",
   "execution_count": 40,
   "metadata": {},
   "outputs": [
    {
     "name": "stdout",
     "output_type": "stream",
     "text": [
      "Every thing make sense\n"
     ]
    }
   ],
   "source": [
    "if 2 + 2 == 4:\n",
    "    print(\"Every thing make sense\")"
   ]
  },
  {
   "cell_type": "code",
   "execution_count": 43,
   "metadata": {},
   "outputs": [],
   "source": [
    "number_of_husband = 1"
   ]
  },
  {
   "cell_type": "code",
   "execution_count": 44,
   "metadata": {},
   "outputs": [
    {
     "name": "stdout",
     "output_type": "stream",
     "text": [
      "so far so good\n",
      "Congrats\n",
      "All Done\n"
     ]
    }
   ],
   "source": [
    "if number_of_husband == 1:\n",
    "    print(\"so far so good\")\n",
    "    print(\"Congrats\")\n",
    "    print(\"All Done\")"
   ]
  },
  {
   "cell_type": "code",
   "execution_count": 51,
   "metadata": {},
   "outputs": [
    {
     "name": "stdout",
     "output_type": "stream",
     "text": [
      "Mr Sherlock Holmes and his age is33\n"
     ]
    }
   ],
   "source": [
    "name = \"Sherlock\"\n",
    "if name == \"Sherlock\":\n",
    "    last_name = \"Holmes\"\n",
    "    age = \"33\"\n",
    "    \n",
    "    print(\"Mr\" + \" \" + name + \" \" + last_name + \" and his age is\" + age)"
   ]
  },
  {
   "cell_type": "code",
   "execution_count": 52,
   "metadata": {},
   "outputs": [],
   "source": [
    "name = \"Faisal\"\n",
    "if name == \"Sherlock\":\n",
    "    last_name = \"Holmes\"\n",
    "    age = \"33\"\n",
    "    \n",
    "    print(\"Mr\" + \" \" + name + \" \" + last_name + \" and his age is\" + age)"
   ]
  },
  {
   "cell_type": "markdown",
   "metadata": {},
   "source": [
    "nothing is displayed becauase his first name is not Sherlock"
   ]
  },
  {
   "cell_type": "code",
   "execution_count": null,
   "metadata": {},
   "outputs": [],
   "source": []
  },
  {
   "cell_type": "markdown",
   "metadata": {},
   "source": [
    "# Chapter :  10    Comparison operators"
   ]
  },
  {
   "cell_type": "code",
   "execution_count": 53,
   "metadata": {},
   "outputs": [
    {
     "ename": "IndentationError",
     "evalue": "expected an indented block (<ipython-input-53-672ec135c48b>, line 2)",
     "output_type": "error",
     "traceback": [
      "\u001b[0;36m  File \u001b[0;32m\"<ipython-input-53-672ec135c48b>\"\u001b[0;36m, line \u001b[0;32m2\u001b[0m\n\u001b[0;31m    if full_name != \"fahim\" + \"Shaikh\":\u001b[0m\n\u001b[0m     ^\u001b[0m\n\u001b[0;31mIndentationError\u001b[0m\u001b[0;31m:\u001b[0m expected an indented block\n"
     ]
    }
   ],
   "source": [
    "if full_name == \"Mark\" + \" \" + \"Mayers\":\n",
    "if full_name != \"fahim\" + \"Shaikh\":     \n"
   ]
  },
  {
   "cell_type": "code",
   "execution_count": 54,
   "metadata": {},
   "outputs": [
    {
     "name": "stdout",
     "output_type": "stream",
     "text": [
      "yes it is\n"
     ]
    }
   ],
   "source": [
    "if 8 > 0:\n",
    "    print(\"yes it is\")"
   ]
  },
  {
   "cell_type": "code",
   "execution_count": 70,
   "metadata": {},
   "outputs": [
    {
     "name": "stdout",
     "output_type": "stream",
     "text": [
      "all is that true\n"
     ]
    }
   ],
   "source": [
    "if 8 > 0:\n",
    "    if 8 >= 4:\n",
    "        if 8 == 8:\n",
    "            if 9 <= 20:\n",
    "                if 20 < 100:\n",
    "                    print(\"all is that true\")"
   ]
  },
  {
   "cell_type": "markdown",
   "metadata": {},
   "source": [
    "## If 2 is less than or equal to 2, display ok\n",
    " "
   ]
  },
  {
   "cell_type": "code",
   "execution_count": 71,
   "metadata": {},
   "outputs": [
    {
     "name": "stdout",
     "output_type": "stream",
     "text": [
      "ok\n"
     ]
    }
   ],
   "source": [
    "if 2 <= 2:\n",
    "    print(\"ok\")"
   ]
  },
  {
   "cell_type": "markdown",
   "metadata": {},
   "source": [
    "### Chapter 11\n",
    "### else and elif statements"
   ]
  },
  {
   "cell_type": "code",
   "execution_count": 83,
   "metadata": {},
   "outputs": [
    {
     "name": "stdout",
     "output_type": "stream",
     "text": [
      "All is true\n"
     ]
    }
   ],
   "source": [
    "Species  = \"cat\"\n",
    "\n",
    "if Species == \"cat\":\n",
    "    if Species != \"loin\":\n",
    "        print(\"All is true\")"
   ]
  },
  {
   "cell_type": "code",
   "execution_count": 73,
   "metadata": {},
   "outputs": [
    {
     "name": "stdout",
     "output_type": "stream",
     "text": [
      "yes! it is a cat\n"
     ]
    }
   ],
   "source": [
    "if Species == \"cat\":\n",
    "    print(\"yes! it is a cat\")\n",
    "else:\n",
    "    print(\"No its not a cat \")"
   ]
  },
  {
   "cell_type": "code",
   "execution_count": 74,
   "metadata": {},
   "outputs": [
    {
     "name": "stdout",
     "output_type": "stream",
     "text": [
      "No its not a cat \n"
     ]
    }
   ],
   "source": [
    "if Species == \"Loin\":\n",
    "    print(\"yes! it is a cat\")\n",
    "else:\n",
    "    print(\"No its not a cat \")"
   ]
  },
  {
   "cell_type": "code",
   "execution_count": 84,
   "metadata": {},
   "outputs": [],
   "source": [
    "donut_price = \"fresh\"\n",
    "\n",
    "\n",
    "if donut_price == \"fresh\":\n",
    "    buy_score = 10\n",
    "elif donut_price == \"low\":\n",
    "    buy_score = 5\n",
    "else:\n",
    "    buy_score = 0"
   ]
  },
  {
   "cell_type": "code",
   "execution_count": 91,
   "metadata": {},
   "outputs": [
    {
     "name": "stdout",
     "output_type": "stream",
     "text": [
      "no sell today\n"
     ]
    }
   ],
   "source": [
    "donut_condition = \"ss\"\n",
    "\n",
    "buy_score = 0\n",
    "if donut_condition == \"fresh\":\n",
    "    buy_score += 10\n",
    "    print(buy_score)\n",
    "else:\n",
    "    print(\"no sell today\")\n"
   ]
  },
  {
   "cell_type": "markdown",
   "metadata": {},
   "source": [
    "if donut_condition == \"fresh\":\n",
    "2   buy_score = 10\n",
    "3 ____ donut_price == \"low\":\n",
    "4   buy_score = 5\n",
    "5 else:\n",
    "6   buy_score = 0"
   ]
  },
  {
   "cell_type": "code",
   "execution_count": 105,
   "metadata": {},
   "outputs": [
    {
     "name": "stdout",
     "output_type": "stream",
     "text": [
      "0\n"
     ]
    }
   ],
   "source": [
    "donut_condition =  \"sh\"\n",
    "donut_price = \"l\"\n",
    "buy_score = 0\n",
    "\n",
    "\n",
    "if donut_condition == \"fresh\":\n",
    "    buy_score += 10\n",
    "elif donut_price == \"low\":\n",
    "    buy_score += 5\n",
    "else:\n",
    "    buy_score = 0\n",
    "    print(buy_score)\n",
    "    \n",
    "\n",
    "\n"
   ]
  },
  {
   "cell_type": "code",
   "execution_count": null,
   "metadata": {},
   "outputs": [],
   "source": []
  },
  {
   "cell_type": "code",
   "execution_count": 109,
   "metadata": {},
   "outputs": [
    {
     "name": "stdout",
     "output_type": "stream",
     "text": [
      "it is good\n",
      "100\n"
     ]
    }
   ],
   "source": [
    "var1 = 100\n",
    "if var1:\n",
    "    print(\"it is good\")\n",
    "    print(var1)\n",
    "else:\n",
    "    print(\"its not a good\")\n",
    "    print(var1)"
   ]
  },
  {
   "cell_type": "code",
   "execution_count": 114,
   "metadata": {},
   "outputs": [
    {
     "name": "stdout",
     "output_type": "stream",
     "text": [
      "no its not good\n",
      "0\n"
     ]
    }
   ],
   "source": [
    "var2 = 0\n",
    "if var2:\n",
    "    print(\"it is good\")\n",
    "    print(var2)\n",
    "else:\n",
    "    print(\"no its not good\")\n",
    "    print(var2)"
   ]
  },
  {
   "cell_type": "code",
   "execution_count": 124,
   "metadata": {},
   "outputs": [
    {
     "name": "stdout",
     "output_type": "stream",
     "text": [
      "3-it is true\n",
      "100\n"
     ]
    }
   ],
   "source": [
    "gar = 100\n",
    "\n",
    "if gar == 150:\n",
    "    print(\"1- it is false\")\n",
    "    print(gar)\n",
    "elif gar == 200:\n",
    "    print(\"2-it is false\")\n",
    "    print(gar)\n",
    "elif gar >= 90:\n",
    "    print(\"3-it is true\")\n",
    "    print(gar)\n",
    "elif gar >= 200:\n",
    "    print(\"4-it is also a true value\")\n",
    "    print(gar)\n",
    "else:\n",
    "    print(\"so what should i do now\")"
   ]
  },
  {
   "cell_type": "code",
   "execution_count": null,
   "metadata": {},
   "outputs": [],
   "source": []
  },
  {
   "cell_type": "markdown",
   "metadata": {},
   "source": [
    "### Chapter ##12\n",
    "\n",
    "Testing sets of conditions"
   ]
  },
  {
   "cell_type": "raw",
   "metadata": {},
   "source": [
    "## if a guy weighs more than 300 pounds, he's just a great big guy.\n",
    "But if he weighs more than 300 pounds and runs 40 yards in under 6 seconds?\n",
    "You're going to invite him to try out for the team. You can test for a\n",
    "combination of conditions in Python by using the keyword and\n"
   ]
  },
  {
   "cell_type": "code",
   "execution_count": 8,
   "metadata": {},
   "outputs": [
    {
     "name": "stdout",
     "output_type": "stream",
     "text": [
      "try to recruit him\n"
     ]
    }
   ],
   "source": [
    "# for the and  we can use following condition\n",
    "\n",
    "weight = 345\n",
    "time = 4\n",
    "\n",
    "\n",
    "\n",
    "if weight > 300 and time < 6:\n",
    "    status = \"try to recruit him\"\n",
    "    print(status)\n",
    "else:\n",
    "    print(\"leave him\")"
   ]
  },
  {
   "cell_type": "code",
   "execution_count": 7,
   "metadata": {},
   "outputs": [
    {
     "name": "stdout",
     "output_type": "stream",
     "text": [
      "leave him\n"
     ]
    }
   ],
   "source": [
    "weight = 345\n",
    "time = 7   ##where time is 7 second higher than demand\n",
    "\n",
    "\n",
    "\n",
    "if weight > 300 and time < 6:\n",
    "    status = \"try to recruit him\"\n",
    "    print(status)\n",
    "else:\n",
    "    print(\"leave him\")"
   ]
  },
  {
   "cell_type": "code",
   "execution_count": 16,
   "metadata": {},
   "outputs": [
    {
     "name": "stdout",
     "output_type": "stream",
     "text": [
      "Welcome to Leeds College!\n"
     ]
    }
   ],
   "source": [
    "##You can also create a test that passes if any condition is met. The keyword is or \n",
    "\n",
    "##Only one of the conditions needs to be met in order for the welcome message to be sent out—a high SAT score, a decent grade point average, or a\n",
    "## parent who attended the college. Any of them will do. Of course, line 2 executes if more than one condition is met\n",
    "\n",
    "SAT = 10 ##this condition  is passed\n",
    "avg = 6  ##this condition  is passed\n",
    "GPA = 4.5 ##this condition  is passed\n",
    "parent = \"uncle\" ## this condition is failed \n",
    "\n",
    "if SAT > avg or GPA > 2.5 or parent == \"alum\":\n",
    "\n",
    "    message = \"Welcome to Leeds College!\"\n",
    "    print(message)"
   ]
  },
  {
   "cell_type": "code",
   "execution_count": 18,
   "metadata": {},
   "outputs": [
    {
     "name": "stdout",
     "output_type": "stream",
     "text": [
      "Baby go! your home! \n"
     ]
    }
   ],
   "source": [
    "SAT = 5 ##this condition  is failed\n",
    "avg = 6  ##this condition  is failed\n",
    "GPA = 1.5 ##this condition  is failed\n",
    "parent = \"alume\" ## this condition is failed \n",
    "\n",
    "if SAT > avg or GPA > 2.5 or parent == \"alum\":\n",
    "\n",
    "    message = \"Welcome to Leeds College!\"\n",
    "    print(message)\n",
    "else:\n",
    "    deny = \"Baby go! your home! \"\n",
    "    print(deny)"
   ]
  },
  {
   "cell_type": "code",
   "execution_count": 31,
   "metadata": {},
   "outputs": [
    {
     "name": "stdout",
     "output_type": "stream",
     "text": [
      "Deny him\n"
     ]
    }
   ],
   "source": [
    "##You can combine any number of and and or conditions. When you do,\n",
    "##you create ambiguities. Take this line...\n",
    "##if age > 65 or age < 21 and res == \"U.K.\":\n",
    "#lets check it out\n",
    "\n",
    "\n",
    "age = 55\n",
    "res = \"uk\"\n",
    "\n",
    "if (age > 65 or age < 21) and res == \"uk\":\n",
    "    status = (\"Give him visa\")\n",
    "    print(status)\n",
    "else:\n",
    "    status = (\"Deny him\")\n",
    "    print(status)\n",
    "\n"
   ]
  },
  {
   "cell_type": "code",
   "execution_count": null,
   "metadata": {},
   "outputs": [],
   "source": []
  },
  {
   "cell_type": "markdown",
   "metadata": {},
   "source": [
    "# Chapter 13\n",
    "## if statements nested\n",
    "### Page#48\n"
   ]
  },
  {
   "cell_type": "markdown",
   "metadata": {},
   "source": [
    "    if (x == y or a == b) and c == d:\n",
    "        g= h\n",
    "    else:\n",
    "        e = f"
   ]
  },
  {
   "cell_type": "code",
   "execution_count": 45,
   "metadata": {},
   "outputs": [
    {
     "name": "stdout",
     "output_type": "stream",
     "text": [
      "hen\n"
     ]
    }
   ],
   "source": [
    "##suppose  the value of variables are :\n",
    "\n",
    "x = 3\n",
    "y = 3\n",
    "a = 5\n",
    "b = 5\n",
    "c = 9\n",
    "d = 9\n",
    "e = 13\n",
    "f = 14\n",
    "g = \"hen\"\n",
    "e = \"hen\"\n",
    "\n",
    "if (x == y or a == b) and c == d:  ## condition passed and it assiged the value h to  g\n",
    "    h = g\n",
    "    print(h)\n",
    "else:\n",
    "        e = (\"f\")\n",
    "        print(e)\n",
    "\n",
    "\n",
    "        \n",
    "        "
   ]
  },
  {
   "cell_type": "raw",
   "metadata": {},
   "source": [
    "##Alternative mehthod to fill same euqation\n",
    "\n",
    "\n",
    "\n",
    "if c == d:\n",
    "    if x == y:\n",
    "    g = h\n",
    "\n",
    "elif a == b:\n",
    "    g = h\n",
    "    else:\n",
    "    e = f\n",
    "else:\n",
    "e = f"
   ]
  },
  {
   "cell_type": "raw",
   "metadata": {},
   "source": [
    "there are two way to perform a same mathematical equation :\n",
    "and we will try both equation like this after compute the value in variable \n",
    "so lets do it :) \n",
    "\n"
   ]
  },
  {
   "cell_type": "markdown",
   "metadata": {},
   "source": [
    "# Chapter 14\n",
    "## Comments"
   ]
  },
  {
   "cell_type": "code",
   "execution_count": 48,
   "metadata": {},
   "outputs": [],
   "source": [
    "# this is comments \"\"\" this is comments\"\"\"\n"
   ]
  },
  {
   "cell_type": "code",
   "execution_count": 49,
   "metadata": {},
   "outputs": [
    {
     "data": {
      "text/plain": [
       "' this is commnes'"
      ]
     },
     "execution_count": 49,
     "metadata": {},
     "output_type": "execute_result"
    }
   ],
   "source": [
    "\"\"\" this is commnes\"\"\""
   ]
  },
  {
   "cell_type": "raw",
   "metadata": {},
   "source": [
    "Comments are lines of text in your code that Python ignores.\n",
    "Comments are for the human, not the machine. For example, a comment\n",
    "can explain a section of code so another programmer can understand it. A\n",
    "comment can help you figure out your code when you come back to it a month\n",
    "or a year later.\n",
    "1 # This is a comment.\n",
    "2 # This is another comment.\n",
    "3 # Python ignores these comments.\n",
    "4 # The code that Python executes is next, on line\n",
    "5.\n",
    "5 print(\"Hello, world!\")"
   ]
  },
  {
   "cell_type": "code",
   "execution_count": null,
   "metadata": {},
   "outputs": [],
   "source": []
  },
  {
   "cell_type": "code",
   "execution_count": 51,
   "metadata": {},
   "outputs": [
    {
     "data": {
      "text/plain": [
       "'\\nhi\\n'"
      ]
     },
     "execution_count": 51,
     "metadata": {},
     "output_type": "execute_result"
    }
   ],
   "source": [
    "'''\n",
    "hi\n",
    "'''"
   ]
  },
  {
   "cell_type": "code",
   "execution_count": null,
   "metadata": {},
   "outputs": [],
   "source": []
  },
  {
   "cell_type": "markdown",
   "metadata": {},
   "source": [
    "# Chapter 15\n",
    "## Lists"
   ]
  },
  {
   "cell_type": "raw",
   "metadata": {},
   "source": [
    "The definition of a list begins the same way the definition of any variable\n",
    "begins—in this case, cities =\n",
    "But when you're defining a list, you enclose everything to the right of the\n",
    "equal sign in square brackets:\n",
    "cities = [\"Atlanta\", \"Baltimore\", \"Chicago\",\n",
    "\"Denver\", \"Los Angeles\", \"Seattle\"]\n",
    "Each element is separated by a comma and a space:\n",
    "cities = [\"Atlanta\", \"Baltimore\", \"Chicago\",\n",
    "\"Denver\", \"Los Angeles\", \"Seattle\"]\n",
    "In the example at the beginning of this chapter, I ended each variable name\n",
    "with a number. city_0 was \"Atlanta\", city_1 was \"Baltimore\", and so on.\n",
    "The list I just defined is similar, but in the case of a list, Python numbers the\n",
    "different elements automatically. And you refer to each element by writing the\n",
    "list name—cities in this case—followed by a number enclosed in square\n",
    "brackets. In the list cities defined above, cities[0] is \"Atlanta\",\n",
    "cities[1] is \"Baltimore\", and so on.\n",
    "The first element in a list always has an index of 0, the second element an\n",
    "index of 1, and so on.\n",
    "The following code is like the original statement I coded using the simple\n",
    "variable city_3, but now I specify a list element instead of a simple variable:\n",
    "print(\"Welcome to \" + cities[3])"
   ]
  },
  {
   "cell_type": "markdown",
   "metadata": {},
   "source": [
    "let we try it now!"
   ]
  },
  {
   "cell_type": "code",
   "execution_count": 62,
   "metadata": {},
   "outputs": [
    {
     "name": "stdout",
     "output_type": "stream",
     "text": [
      "welcome to my city karachi\n",
      "welcome to my city Multan\n",
      "welcome to my city Islamabad\n"
     ]
    }
   ],
   "source": [
    "cities = [\"karachi\", \"Lahore\", \"Fasalabad\", \"Multan\", \"Pindi\", \"Islamabad\"]\n",
    "# in indexing karachi [0], Faisalabad [1], Multan[2], Pindi[3], Islamabad[4]\n",
    "\n",
    "greeting = \"welcome to my city \"\n",
    "print(greeting + cities[0])\n",
    "print(greeting + cities[3])\n",
    "print(greeting + cities[5])\n"
   ]
  },
  {
   "cell_type": "code",
   "execution_count": null,
   "metadata": {},
   "outputs": [],
   "source": []
  }
 ],
 "metadata": {
  "kernelspec": {
   "display_name": "Python 3",
   "language": "python",
   "name": "python3"
  },
  "language_info": {
   "codemirror_mode": {
    "name": "ipython",
    "version": 3
   },
   "file_extension": ".py",
   "mimetype": "text/x-python",
   "name": "python",
   "nbconvert_exporter": "python",
   "pygments_lexer": "ipython3",
   "version": "3.7.3"
  }
 },
 "nbformat": 4,
 "nbformat_minor": 2
}
