{
 "cells": [
  {
   "cell_type": "code",
   "execution_count": 1,
   "metadata": {},
   "outputs": [
    {
     "name": "stdout",
     "output_type": "stream",
     "text": [
      "Hello World\n"
     ]
    }
   ],
   "source": [
    "print (\"Hello World\")"
   ]
  },
  {
   "cell_type": "markdown",
   "metadata": {},
   "source": [
    "this command I used to print hello world"
   ]
  },
  {
   "cell_type": "code",
   "execution_count": null,
   "metadata": {},
   "outputs": [],
   "source": []
  },
  {
   "cell_type": "markdown",
   "metadata": {},
   "source": [
    "### this is Bilal"
   ]
  },
  {
   "cell_type": "code",
   "execution_count": 2,
   "metadata": {},
   "outputs": [
    {
     "name": "stdout",
     "output_type": "stream",
     "text": [
      "Hi Bilal\n"
     ]
    }
   ],
   "source": [
    "print (\"Hi Bilal\")"
   ]
  },
  {
   "cell_type": "markdown",
   "metadata": {},
   "source": [
    "This command i use to print Bilal"
   ]
  },
  {
   "cell_type": "code",
   "execution_count": null,
   "metadata": {},
   "outputs": [],
   "source": []
  },
  {
   "cell_type": "code",
   "execution_count": 3,
   "metadata": {},
   "outputs": [],
   "source": [
    "biodata = \"\"\"\n",
    "name: \"Bilal\"\n",
    "father_name: \"M Suleman\"\n",
    "class: \"AI\"\n",
    "\"\"\""
   ]
  },
  {
   "cell_type": "code",
   "execution_count": 4,
   "metadata": {},
   "outputs": [
    {
     "name": "stdout",
     "output_type": "stream",
     "text": [
      "\n",
      "name: \"Bilal\"\n",
      "father_name: \"M Suleman\"\n",
      "class: \"AI\"\n",
      "\n"
     ]
    }
   ],
   "source": [
    "print(biodata)"
   ]
  },
  {
   "cell_type": "code",
   "execution_count": null,
   "metadata": {},
   "outputs": [],
   "source": []
  },
  {
   "cell_type": "code",
   "execution_count": 5,
   "metadata": {},
   "outputs": [
    {
     "name": "stdout",
     "output_type": "stream",
     "text": [
      "\n",
      "\n",
      "name: \"bilal\"\n",
      "father_name: \"M suleman\"\n",
      "course: \"AI\"  \n",
      "timing: \"12:45\"\n",
      "\n"
     ]
    }
   ],
   "source": [
    "name=\"bilal\"\n",
    "father_name= \"M suleman\"\n",
    "course= \"AI\"\n",
    "timing= \"12:45\"\n",
    "\n",
    "intro =\"\"\"\n",
    "\n",
    "name: \"{}\"\n",
    "father_name: \"{}\"\n",
    "course: \"{}\"  \n",
    "timing: \"{}\"\n",
    "\"\"\"\n",
    "\n",
    "\n",
    "\n",
    "print(intro.format(name,father_name,course,timing,))\n",
    "\n"
   ]
  },
  {
   "cell_type": "code",
   "execution_count": 6,
   "metadata": {},
   "outputs": [
    {
     "name": "stdout",
     "output_type": "stream",
     "text": [
      "\n",
      "\n",
      "name: \"{}\"\n",
      "father_name: \"{}\"\n",
      "course: \"{}\"  \n",
      "timing: \"{}\"\n",
      "\n"
     ]
    }
   ],
   "source": [
    "print(intro)"
   ]
  },
  {
   "cell_type": "code",
   "execution_count": 7,
   "metadata": {},
   "outputs": [
    {
     "data": {
      "text/plain": [
       "471.0"
      ]
     },
     "execution_count": 7,
     "metadata": {},
     "output_type": "execute_result"
    }
   ],
   "source": [
    "58+9*(8*3)+34-3*5+72/8*(32+3)-85*2+3*(35+9)/4"
   ]
  },
  {
   "cell_type": "markdown",
   "metadata": {},
   "source": [
    "    = 58+9*24+34-15+72/8*35-170+3*44/4\n",
    "    = 58+216+19+9*35-170+3*11\n",
    "    = 293+315-170+33\n",
    "    = 471  ans"
   ]
  },
  {
   "cell_type": "raw",
   "metadata": {},
   "source": [
    "fd fnfnf fdsfjfj "
   ]
  },
  {
   "cell_type": "markdown",
   "metadata": {},
   "source": [
    "#### "
   ]
  },
  {
   "cell_type": "code",
   "execution_count": null,
   "metadata": {},
   "outputs": [],
   "source": []
  },
  {
   "cell_type": "code",
   "execution_count": null,
   "metadata": {},
   "outputs": [],
   "source": []
  }
 ],
 "metadata": {
  "kernelspec": {
   "display_name": "Python 3",
   "language": "python",
   "name": "python3"
  },
  "language_info": {
   "codemirror_mode": {
    "name": "ipython",
    "version": 3
   },
   "file_extension": ".py",
   "mimetype": "text/x-python",
   "name": "python",
   "nbconvert_exporter": "python",
   "pygments_lexer": "ipython3",
   "version": "3.7.2"
  }
 },
 "nbformat": 4,
 "nbformat_minor": 2
}
